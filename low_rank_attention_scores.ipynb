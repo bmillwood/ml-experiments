{
 "cells": [
  {
   "cell_type": "code",
   "execution_count": null,
   "metadata": {},
   "outputs": [],
   "source": [
    "import matplotlib.pyplot as plt\n",
    "import torch as t\n",
    "from torchtyping import TensorType, patch_typeguard\n",
    "patch_typeguard()\n",
    "from typeguard import typechecked\n",
    "from typing import List, Tuple"
   ]
  },
  {
   "cell_type": "code",
   "execution_count": null,
   "metadata": {},
   "outputs": [],
   "source": [
    "DEVICE = \"cuda\" if t.cuda.is_available() else \"cpu\"\n",
    "DEVICE"
   ]
  },
  {
   "cell_type": "code",
   "execution_count": null,
   "metadata": {},
   "outputs": [],
   "source": [
    "@typechecked\n",
    "def strict_upper_triangular_mask(seq_len: int, device=DEVICE) -> TensorType[\"seq_len\", \"seq_len\"]:\n",
    "    return t.arange(seq_len, device=device).unsqueeze(1) < t.arange(seq_len, device=device).unsqueeze(0)\n",
    "\n",
    "strict_upper_triangular_mask(3)"
   ]
  },
  {
   "cell_type": "code",
   "execution_count": null,
   "metadata": {},
   "outputs": [],
   "source": [
    "@typechecked\n",
    "def probs(q: TensorType[\"seq_len\", \"head_size\"], k: TensorType[\"seq_len\", \"head_size\"]) -> TensorType[\"seq_len\", \"seq_len\"]:\n",
    "    seq_len, head_size = q.shape\n",
    "    scores = q @ k.T / t.sqrt(t.tensor(head_size, device=q.device))\n",
    "    masked_scores = t.where(strict_upper_triangular_mask(seq_len, device=scores.device), t.tensor(-1e4, device=scores.device), scores)\n",
    "    return t.softmax(masked_scores, dim=-1)"
   ]
  },
  {
   "cell_type": "code",
   "execution_count": null,
   "metadata": {},
   "outputs": [],
   "source": [
    "@typechecked\n",
    "def plot_probs_with_1d_scores(qks: List[Tuple[List[float], List[float]]]):\n",
    "    probses = [\n",
    "        m\n",
    "        for q, k in qks\n",
    "        for m in [\n",
    "            probs(q=t.tensor([[x] for x in q]), k=t.tensor([[x] for x in k])),\n",
    "            t.ones(len(q), 1) / 2,\n",
    "        ]\n",
    "    ]\n",
    "    plt.imshow(t.cat(probses, dim=1).detach().numpy())\n",
    "    plt.show()"
   ]
  },
  {
   "cell_type": "code",
   "execution_count": null,
   "metadata": {},
   "outputs": [],
   "source": [
    "plot_probs_with_1d_scores([\n",
    "    ([1., 1., 1.], [1., 10., 100.]),\n",
    "    ([1., 1., 1.], [1., 10., 0.]),\n",
    "    ([1., 1., -1.], [1., 10., 100.]),\n",
    "    ([1., 1., 1.], [10., 0., 100.]),\n",
    "    ([1., 1., -1.], [10., 0., 10.]),\n",
    "    ([1., 1., 1.], [10., 0., 0.]),\n",
    "])"
   ]
  },
  {
   "cell_type": "code",
   "execution_count": null,
   "metadata": {},
   "outputs": [],
   "source": [
    "plot_probs_with_1d_scores([\n",
    "    ([1., 1., 1., 1.], [1., 10., 100., 1000.]),\n",
    "    ([1., 1., 1., 1.], [1., 10., 100., 0.]),\n",
    "    ([1., -1., 1., -1.], [10., 1., 100., 100.]),\n",
    "    ([1., -1., -1., 1.], [100., 10., 1., 0.]),\n",
    "    ([1., 1., 1., 1.], [1., 10., 1., 100.]),\n",
    "    ([1., 1., 1., -1.], [10., 100., 1., 10.]),\n",
    "    ([1., 1., 1., 1.], [10., 100., 1., 1.]),\n",
    "    ([1., 1., 1., -1.], [1., 100., 10., 10.]),\n",
    "])\n",
    "plot_probs_with_1d_scores([\n",
    "    ([1., 1., -1., 1.], [1., 10., 100., 1000.]),\n",
    "    ([1., 1., -1., 1.], [1., 10., 100., 1.]),\n",
    "    ([1., 1., -1., 1.], [10., 1000., 100., 1.]),\n",
    "    ([1., -1., 1., 1.], [10., 1., 1., 1.]),\n",
    "    ([1., -1., 1., 1.], [1., 10., 100., 1000.]),\n",
    "    ([1., 1., 1., 1.], [10., 1., 100., 1.]),\n",
    "    ([1., 1., 1., -1.], [10., 1., 100., 10.]),\n",
    "    ([1., 1., -1., 1.], [100., 10., 1., 10.]),\n",
    "])\n",
    "plot_probs_with_1d_scores([\n",
    "    ([1., 1., -1., 1.], [10., 1., 10., 100.]),\n",
    "    ([1., 1., -1., 1.], [10., 1., 100., 1.]),\n",
    "    ([1., 1., -1., -1.], [10., 1., 10., 10.]),\n",
    "    ([1., 1., -1., 1.], [100., 1., 10., 10.]),\n",
    "    ([1., 1., 1., 1.], [10., 1., 1., 100.]),\n",
    "    ([1., 1., 1., -1.], [100., 10., 1., 10.]),\n",
    "    ([1., 1., 1., -1.], [100., 1., 10., 10.]),\n",
    "    ([1., 1., 1., 1.], [10., 1., 1., 1.]),\n",
    "])"
   ]
  }
 ],
 "metadata": {
  "interpreter": {
   "hash": "823d24656dbc32b8dace34fa6a3a6806739c01ed161eb6681700e5f71dfa66e2"
  },
  "kernelspec": {
   "display_name": "Python 3.9.6 64-bit",
   "language": "python",
   "name": "python3"
  },
  "language_info": {
   "codemirror_mode": {
    "name": "ipython",
    "version": 3
   },
   "file_extension": ".py",
   "mimetype": "text/x-python",
   "name": "python",
   "nbconvert_exporter": "python",
   "pygments_lexer": "ipython3",
   "version": "3.9.6"
  },
  "orig_nbformat": 4
 },
 "nbformat": 4,
 "nbformat_minor": 2
}
