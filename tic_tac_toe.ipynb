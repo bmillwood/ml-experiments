{
 "cells": [
  {
   "cell_type": "code",
   "execution_count": null,
   "metadata": {},
   "outputs": [],
   "source": [
    "import einops\n",
    "import matplotlib.pyplot as plt\n",
    "import torch as t\n",
    "from torchtyping import TensorType, patch_typeguard\n",
    "from typeguard import typechecked\n",
    "from typing import List, Tuple\n",
    "patch_typeguard()"
   ]
  },
  {
   "cell_type": "code",
   "execution_count": null,
   "metadata": {},
   "outputs": [],
   "source": [
    "%load_ext line_profiler"
   ]
  },
  {
   "cell_type": "code",
   "execution_count": null,
   "metadata": {},
   "outputs": [],
   "source": [
    "DEVICE = 'cpu'"
   ]
  },
  {
   "cell_type": "code",
   "execution_count": null,
   "metadata": {},
   "outputs": [],
   "source": [
    "Boards = TensorType[\"batch_size\", 3, 3, t.long]\n",
    "\n",
    "def finished(boards):\n",
    "    return t.amin(t.amin(boards != 0, dim=-1), dim=-1)"
   ]
  },
  {
   "cell_type": "code",
   "execution_count": null,
   "metadata": {},
   "outputs": [],
   "source": [
    "def maybe_typechecked(f):\n",
    "    return f"
   ]
  },
  {
   "cell_type": "code",
   "execution_count": null,
   "metadata": {},
   "outputs": [],
   "source": [
    "@maybe_typechecked\n",
    "def ttn(tt: TensorType[\"batch\": ..., 3, 3]) -> TensorType[\"batch\": ..., 9]:\n",
    "    return einops.rearrange(tt, \"... i j -> ... (i j)\")\n",
    "\n",
    "@maybe_typechecked\n",
    "def ntt(n: TensorType[\"batch\": ..., 9]) -> TensorType[\"batch\": ..., 3, 3]:\n",
    "    return einops.rearrange(n, \"... (i j) -> ... i j\", i=3, j=3)"
   ]
  },
  {
   "cell_type": "code",
   "execution_count": null,
   "metadata": {},
   "outputs": [],
   "source": [
    "@maybe_typechecked\n",
    "def get_wins(boards : Boards) -> TensorType[\"batch_size\", t.long]:\n",
    "    by_rows = t.amax(t.amin(boards, dim=2), dim=1)\n",
    "    by_cols = t.amax(t.amin(boards, dim=1), dim=1)\n",
    "    by_diag = t.amin(t.diagonal(boards, dim1=-2, dim2=-1), dim=-1)\n",
    "    by_odiag = t.amin(t.diagonal(boards[:, 2 - t.arange(3), :], dim1=-2, dim2=-1), dim=-1)\n",
    "    return t.nn.functional.relu(t.max(t.max(by_rows, by_cols), t.max(by_diag, by_odiag)))\n",
    "\n",
    "@maybe_typechecked\n",
    "def get_outcomes(boards : Boards) -> TensorType[\"batch_size\", t.long]:\n",
    "    return get_wins(boards) - get_wins(-boards)"
   ]
  },
  {
   "cell_type": "code",
   "execution_count": null,
   "metadata": {},
   "outputs": [],
   "source": [
    "@maybe_typechecked\n",
    "class TicTacToe(t.nn.Module):\n",
    "    def __init__(self, num_layers: int, hidden_size: int):\n",
    "        super().__init__()\n",
    "        self.embed = t.nn.Sequential(t.nn.Linear(9, hidden_size), t.nn.ReLU())\n",
    "        self.layers = t.nn.Sequential(*[\n",
    "            t.nn.Sequential(\n",
    "                t.nn.Linear(hidden_size, hidden_size),\n",
    "                t.nn.ReLU(),\n",
    "            )\n",
    "            for _ in range(num_layers)\n",
    "        ])\n",
    "        self.unembed = t.nn.Linear(hidden_size, 27)\n",
    "\n",
    "    def input_device(self):\n",
    "        return self.embed[0].weight.device\n",
    "\n",
    "    def forward(self, x: Boards) -> TensorType[\"batch_size\", 3, 3, 3, float]:\n",
    "        x = self.embed(ttn(x.to(t.float)))\n",
    "        x = self.layers(x)\n",
    "        x = self.unembed(x)\n",
    "        return einops.rearrange(x, 'b (i j o) -> b i j o', i=3, j=3)\n",
    "\n",
    "model = TicTacToe(num_layers=2, hidden_size=32).to(DEVICE)\n",
    "model(t.zeros(1, 3, 3, dtype=t.long, device=model.input_device()))"
   ]
  },
  {
   "cell_type": "code",
   "execution_count": null,
   "metadata": {},
   "outputs": [],
   "source": [
    "@maybe_typechecked\n",
    "def get_win_probs(model: TicTacToe, boards: Boards) -> Tuple[TensorType[\"batch_size\", 9, 3], TensorType[\"batch_size\", 9]]:\n",
    "    logits = model(boards)\n",
    "    logits = einops.rearrange(logits, 'b i j o -> b (i j) o')\n",
    "    win_probs = t.softmax(logits, dim=-1)[:, :, 2]\n",
    "    return logits, win_probs\n",
    "\n",
    "def show_win_probs(model: TicTacToe, boards: Boards) -> TensorType[\"batch_size\", 3, 3]:\n",
    "    _, win_probs = get_win_probs(model, boards)\n",
    "    return ntt(win_probs)"
   ]
  },
  {
   "cell_type": "code",
   "execution_count": null,
   "metadata": {},
   "outputs": [],
   "source": [
    "@maybe_typechecked\n",
    "def choose_moves(model: TicTacToe, boards: Boards) -> Tuple[TensorType[\"batch_size\", 9, 3], TensorType[\"batch_size\", t.long]]:\n",
    "    logits, win_probs = get_win_probs(model, boards)\n",
    "    flat_boards = ttn(boards)\n",
    "    moves = t.multinomial(win_probs * (flat_boards == 0), num_samples=1).squeeze(-1)\n",
    "    return logits, moves"
   ]
  },
  {
   "cell_type": "code",
   "execution_count": null,
   "metadata": {},
   "outputs": [],
   "source": [
    "@maybe_typechecked\n",
    "def make_moves(boards: Boards, moves: TensorType[\"batch_size\", t.long]) -> Boards:\n",
    "    return boards + ntt(t.nn.functional.one_hot(moves, 9))"
   ]
  },
  {
   "cell_type": "code",
   "execution_count": null,
   "metadata": {},
   "outputs": [],
   "source": [
    "@maybe_typechecked\n",
    "def play_game(model: TicTacToe) -> List[Boards]:\n",
    "    game = [t.zeros(1, 3, 3, dtype=t.long, device=model.input_device())]\n",
    "    while t.max(game[-1] == 0) and get_outcomes(game[-1]) == 0:\n",
    "        _, moves = choose_moves(model, game[-1])\n",
    "        next = make_moves(game[-1], moves)\n",
    "        game.append(-next)\n",
    "    return game\n",
    "\n",
    "play_game(model)"
   ]
  },
  {
   "cell_type": "code",
   "execution_count": null,
   "metadata": {},
   "outputs": [],
   "source": [
    "@maybe_typechecked\n",
    "def train(model: TicTacToe, lr: float, batch_size: int, num_rounds: int):\n",
    "    model.train()\n",
    "    optimizer = t.optim.SGD(model.parameters(), lr=lr)\n",
    "    boards = t.zeros(batch_size, 3, 3, dtype=t.long, device=model.input_device())\n",
    "    losses = []\n",
    "    for i in range(num_rounds):\n",
    "        optimizer.zero_grad()\n",
    "\n",
    "        logits, moves = choose_moves(model=model, boards=boards)\n",
    "        assert logits.shape == (batch_size, 9, 3)\n",
    "        assert moves.shape == (batch_size,)\n",
    "        logits_of_moves = t.gather(logits, dim=1, index=moves[:, None, None].expand(-1, -1, 3)).squeeze(1)\n",
    "        assert logits_of_moves.shape == (batch_size, 3), logits_of_moves.shape\n",
    "        moved = make_moves(boards=boards, moves=moves)\n",
    "        assert moved.shape == (batch_size, 3, 3)\n",
    "        finished_by_me = finished(moved)\n",
    "        assert finished_by_me.shape == (batch_size,)\n",
    "        indices = t.arange(batch_size, device=model.input_device())\n",
    "        indices_of_finished = t.masked_select(indices, finished_by_me)\n",
    "        (num_finished_by_me,) = indices_of_finished.shape\n",
    "        logits_of_games_i_ended = t.index_select(logits_of_moves, dim=0, index=indices_of_finished)\n",
    "        assert logits_of_games_i_ended.shape == (num_finished_by_me, 3)\n",
    "        outcomes_of_games_i_ended = t.index_select(get_outcomes(moved) + 1, dim=0, index=indices_of_finished)\n",
    "        assert outcomes_of_games_i_ended.shape == (num_finished_by_me,)\n",
    "        after_my_move = -moved * (~finished_by_me)[:, None, None]\n",
    "        _, replies = choose_moves(model=model, boards=after_my_move)\n",
    "        after_their_reply = -make_moves(boards=after_my_move, moves=replies)\n",
    "        finished_by_them = (~finished_by_me) & finished(after_their_reply)\n",
    "        indices_of_finished = t.masked_select(indices, finished_by_them)\n",
    "        logits_of_games_they_ended = t.index_select(logits_of_moves, dim=0, index=indices_of_finished)\n",
    "        outcomes_of_games_they_ended = t.index_select(get_outcomes(after_their_reply) + 1, dim=0, index=indices_of_finished)\n",
    "        loss = t.nn.functional.cross_entropy(\n",
    "            input=t.cat((logits_of_games_i_ended, logits_of_games_they_ended), dim=0),\n",
    "            target=t.cat((outcomes_of_games_i_ended, outcomes_of_games_they_ended), dim=0),\n",
    "        )\n",
    "        boards = after_my_move\n",
    "\n",
    "        loss.backward()\n",
    "        if loss > 0:\n",
    "            losses.append(loss.item())\n",
    "        optimizer.step()\n",
    "\n",
    "    w = 20\n",
    "    plt.plot([sum(losses[i : i + w]) / w for i in range(len(losses) - w)])"
   ]
  },
  {
   "cell_type": "code",
   "execution_count": null,
   "metadata": {},
   "outputs": [],
   "source": [
    "batch_size = 16384 if t.cuda.is_available() else 1024\n",
    "train(model, lr=1e-3, batch_size=batch_size, num_rounds=1000)"
   ]
  },
  {
   "cell_type": "code",
   "execution_count": null,
   "metadata": {},
   "outputs": [],
   "source": [
    "show_win_probs(model, boards=t.tensor([[[0, 0, 0], [0, -1, 0], [0, 0, 0]]], device=model.input_device()))"
   ]
  }
 ],
 "metadata": {
  "interpreter": {
   "hash": "7190ff053c3d90cfb76522ce77adf250c9fcce715af1d5695ddeeaa88dc7dc4c"
  },
  "kernelspec": {
   "display_name": "Python 3.9.6 64-bit",
   "language": "python",
   "name": "python3"
  },
  "language_info": {
   "codemirror_mode": {
    "name": "ipython",
    "version": 3
   },
   "file_extension": ".py",
   "mimetype": "text/x-python",
   "name": "python",
   "nbconvert_exporter": "python",
   "pygments_lexer": "ipython3",
   "version": "3.9.6"
  },
  "orig_nbformat": 4
 },
 "nbformat": 4,
 "nbformat_minor": 2
}
