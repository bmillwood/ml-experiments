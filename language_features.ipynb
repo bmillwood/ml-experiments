{
 "cells": [
  {
   "cell_type": "code",
   "execution_count": 33,
   "metadata": {},
   "outputs": [],
   "source": [
    "import IPython.display\n",
    "import matplotlib.pyplot as plt\n",
    "import torch as t\n",
    "import transformers"
   ]
  },
  {
   "cell_type": "code",
   "execution_count": 2,
   "metadata": {},
   "outputs": [
    {
     "name": "stderr",
     "output_type": "stream",
     "text": [
      "Downloading: 100%|██████████| 0.99M/0.99M [00:00<00:00, 2.15MB/s]\n",
      "Downloading: 100%|██████████| 446k/446k [00:00<00:00, 1.17MB/s]\n",
      "Downloading: 100%|██████████| 1.29M/1.29M [00:00<00:00, 2.79MB/s]\n",
      "Downloading: 100%|██████████| 665/665 [00:00<00:00, 174kB/s]\n"
     ]
    }
   ],
   "source": [
    "tokenizer = transformers.GPT2TokenizerFast.from_pretrained('gpt2')"
   ]
  },
  {
   "cell_type": "code",
   "execution_count": 4,
   "metadata": {},
   "outputs": [
    {
     "name": "stderr",
     "output_type": "stream",
     "text": [
      "Downloading: 100%|██████████| 523M/523M [00:21<00:00, 26.0MB/s] \n"
     ]
    }
   ],
   "source": [
    "gpt2 = transformers.GPT2LMHeadModel.from_pretrained('gpt2')"
   ]
  },
  {
   "cell_type": "code",
   "execution_count": 54,
   "metadata": {},
   "outputs": [],
   "source": [
    "def ipython_token_prob_table(token_probs):\n",
    "    html_rows = ['<table>']\n",
    "    for row in token_probs:\n",
    "        html_cols = ['<tr>']\n",
    "        for token, prob in row:\n",
    "            html_cols.append(f'<td>{token}</td><td>{prob:.2g}</td>')\n",
    "        html_cols.append('</tr>')\n",
    "        html_rows.append(''.join(html_cols))\n",
    "    html_rows.append('</table>')\n",
    "    return IPython.display.HTML('\\n'.join(html_rows))"
   ]
  },
  {
   "cell_type": "code",
   "execution_count": 1,
   "metadata": {},
   "outputs": [],
   "source": [
    "def analyze_sentence(sentence):\n",
    "    tokens = tokenizer.encode(sentence, return_tensors=\"pt\")\n",
    "    batch_size, seq_len = tokens.shape\n",
    "    assert batch_size == 1\n",
    "    with t.no_grad():\n",
    "        probs = t.softmax(gpt2(tokens).logits, dim=-1)\n",
    "        log_probs = t.log(probs)\n",
    "        assert log_probs.shape == (batch_size, seq_len, tokenizer.vocab_size)\n",
    "        sorted_probs, sorted_tokens = t.sort(log_probs, dim=-1, descending=True)\n",
    "        log_probs_of_truth = t.gather(\n",
    "            input=log_probs,\n",
    "            dim=-1,\n",
    "            index=tokens[:, 1:, None]\n",
    "        ).squeeze(0).squeeze(-1).detach()\n",
    "\n",
    "    plt.figure(figsize=(6.4,3.2))\n",
    "    plt.plot([tokenizer.decode(token) for token in tokens[0, 1:]], log_probs_of_truth)\n",
    "    plt.show()\n",
    "\n",
    "    token_probs_table = []\n",
    "    for i in range(seq_len - 1):\n",
    "        token_probs_row = []\n",
    "        add_token = lambda t: token_probs_row.append((tokenizer.decode(t), probs[0, i, t]))\n",
    "        add_token(tokens[0, i + 1])\n",
    "        for j in range(5):\n",
    "            add_token(sorted_tokens[0, i, j])\n",
    "        token_probs_table.append(token_probs_row)\n",
    "    IPython.display.display(ipython_token_prob_table(token_probs_table))\n",
    "\n",
    "# analyze_sentence(sentence=\"the transformer isn't going to fail this task.\")"
   ]
  }
 ],
 "metadata": {
  "interpreter": {
   "hash": "7190ff053c3d90cfb76522ce77adf250c9fcce715af1d5695ddeeaa88dc7dc4c"
  },
  "kernelspec": {
   "display_name": "Python 3.9.6 64-bit",
   "language": "python",
   "name": "python3"
  },
  "language_info": {
   "codemirror_mode": {
    "name": "ipython",
    "version": 3
   },
   "file_extension": ".py",
   "mimetype": "text/x-python",
   "name": "python",
   "nbconvert_exporter": "python",
   "pygments_lexer": "ipython3",
   "version": "3.9.6"
  },
  "orig_nbformat": 4
 },
 "nbformat": 4,
 "nbformat_minor": 2
}
