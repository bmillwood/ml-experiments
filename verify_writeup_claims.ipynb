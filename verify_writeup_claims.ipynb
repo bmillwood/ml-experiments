{
 "cells": [
  {
   "cell_type": "markdown",
   "metadata": {},
   "source": [
    "# Verifying claims I make in the writeup"
   ]
  },
  {
   "cell_type": "markdown",
   "metadata": {},
   "source": [
    "## Setup"
   ]
  },
  {
   "cell_type": "code",
   "execution_count": null,
   "metadata": {},
   "outputs": [],
   "source": [
    "import torch as t\n",
    "# import torchtext\n",
    "from tqdm import tqdm\n",
    "import transformers"
   ]
  },
  {
   "cell_type": "code",
   "execution_count": null,
   "metadata": {},
   "outputs": [],
   "source": [
    "DEVICE = \"cuda\" if t.cuda.is_available() else \"cpu\"\n",
    "DEVICE"
   ]
  },
  {
   "cell_type": "code",
   "execution_count": null,
   "metadata": {},
   "outputs": [],
   "source": [
    "gpt = transformers.GPT2LMHeadModel.from_pretrained(\"gpt2\").to(DEVICE)"
   ]
  },
  {
   "cell_type": "code",
   "execution_count": null,
   "metadata": {},
   "outputs": [],
   "source": [
    "tokenizer = transformers.GPT2TokenizerFast.from_pretrained(\"gpt2\")"
   ]
  },
  {
   "cell_type": "markdown",
   "metadata": {},
   "source": [
    "## How bad would it be to fix the mean and std that LayerNorm uses?"
   ]
  },
  {
   "cell_type": "code",
   "execution_count": null,
   "metadata": {},
   "outputs": [],
   "source": [
    "(dataset,) = torchtext.datasets.EnWik9()"
   ]
  },
  {
   "cell_type": "code",
   "execution_count": null,
   "metadata": {},
   "outputs": [],
   "source": [
    "class SaveForward:\n",
    "    def __init__(self, layer):\n",
    "        self.layer = layer\n",
    "\n",
    "    def __enter__(self):\n",
    "        self.remove_handle = self.layer.register_forward_hook(self.hook)\n",
    "        return self\n",
    "\n",
    "    def __exit__(self, exn_ty, exn_val, exn_tb):\n",
    "        self.remove_handle.remove()\n",
    "\n",
    "    def hook(self, module, module_input, module_output):\n",
    "        self.saved_input = module_input\n",
    "        self.saved_output = module_output   "
   ]
  },
  {
   "cell_type": "code",
   "execution_count": null,
   "metadata": {},
   "outputs": [],
   "source": [
    "saved_stats = []\n",
    "for _, data in zip(tqdm(range(1000)), dataset):\n",
    "    input_ids = tokenizer.encode(data, return_tensors=\"pt\").to(DEVICE)\n",
    "    with t.no_grad():\n",
    "        with SaveForward(gpt.transformer.ln_f) as saved:\n",
    "            gpt(input_ids)\n",
    "            (inp,) = saved.saved_input\n",
    "            saved_stats.append(\n",
    "                (t.mean(inp).item(), t.std(inp).item())\n",
    "            )"
   ]
  },
  {
   "cell_type": "code",
   "execution_count": null,
   "metadata": {},
   "outputs": [],
   "source": [
    "saved_stats[:20]"
   ]
  },
  {
   "cell_type": "markdown",
   "metadata": {},
   "source": [
    "Seems like it might be pretty bad."
   ]
  },
  {
   "cell_type": "code",
   "execution_count": null,
   "metadata": {},
   "outputs": [],
   "source": [
    "gpt.transformer.ln_f"
   ]
  }
 ],
 "metadata": {
  "interpreter": {
   "hash": "823d24656dbc32b8dace34fa6a3a6806739c01ed161eb6681700e5f71dfa66e2"
  },
  "kernelspec": {
   "display_name": "Python 3.9.6 64-bit",
   "language": "python",
   "name": "python3"
  },
  "language_info": {
   "codemirror_mode": {
    "name": "ipython",
    "version": 3
   },
   "file_extension": ".py",
   "mimetype": "text/x-python",
   "name": "python",
   "nbconvert_exporter": "python",
   "pygments_lexer": "ipython3",
   "version": "3.9.6"
  },
  "orig_nbformat": 4
 },
 "nbformat": 4,
 "nbformat_minor": 2
}
